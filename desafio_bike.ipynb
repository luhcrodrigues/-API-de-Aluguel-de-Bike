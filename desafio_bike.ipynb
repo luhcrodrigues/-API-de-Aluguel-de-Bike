{
 "cells": [
  {
   "cell_type": "markdown",
   "metadata": {},
   "source": [
    "# Desafio de Dados: Consumindo API de Aluguel de Bicicleta"
   ]
  },
  {
   "cell_type": "markdown",
   "metadata": {
    "id": "2bd70T7VEENe"
   },
   "source": [
    "## Resolução "
   ]
  },
  {
   "cell_type": "code",
   "execution_count": 31,
   "metadata": {
    "id": "Fxhrq3hRuLul"
   },
   "outputs": [],
   "source": [
    "from pyspark.sql import SparkSession\n",
    "import requests\n",
    "from pyspark.sql.functions import date_format\n",
    "from pyspark.sql.functions import from_unixtime, unix_timestamp, avg,hour\n",
    "from pyspark.sql.functions import col"
   ]
  },
  {
   "cell_type": "markdown",
   "metadata": {
    "id": "gR935iDIo_T4"
   },
   "source": [
    "1-Obter a lista de todas as estações de bicicletas e armazená-las em uma tabela SQL."
   ]
  },
  {
   "cell_type": "code",
   "execution_count": 32,
   "metadata": {
    "colab": {
     "base_uri": "https://localhost:8080/"
    },
    "id": "S0XjR0rbmv0s",
    "outputId": "467168b0-a116-4d6c-bfa8-04f46abbeace"
   },
   "outputs": [
    {
     "name": "stdout",
     "output_type": "stream",
     "text": [
      "+--------+--------------------+--------------------+\n",
      "|capacity|                name|          station_id|\n",
      "+--------+--------------------+--------------------+\n",
      "|      87|  E 40 St & Park Ave|c638ec67-9ac0-416...|\n",
      "|       0|Bailey Ave & W 22...| 1862788202397235246|\n",
      "|       0|Crotona Ave & E 1...| 1860189327773878824|\n",
      "|       0|    E 184 St & 3 Ave| 1864605386632012480|\n",
      "|       0|Crotona Pkwy & Br...| 1861678548643203686|\n",
      "|       0|Arthur Ave & E 18...| 1862008701134683118|\n",
      "|       0|Sedgwick Ave & W ...| 1869753484503987044|\n",
      "|      37|Columbia St & Lor...|66de0cab-0aca-11e...|\n",
      "|       0|E 189 St & Bathga...| 1862008939006380034|\n",
      "|      25|      56 Ave & 92 St| 1846086362824884662|\n",
      "|      20|Decatur Ave & Bed...|6542d952-ca19-410...|\n",
      "|      19|      64 St & 51 Ave|5145ad1c-241f-444...|\n",
      "|      96|     8 Ave & W 33 St|66dc686c-0aca-11e...|\n",
      "|      19|      37 St & 24 Ave|0630217a-3913-47d...|\n",
      "|      19|Wilkins Ave & Cro...|068b919c-f649-409...|\n",
      "|      19|E 163 St & Tiffan...|6476c5fd-611e-436...|\n",
      "|      23|Marcy Ave & Lafay...|66dcc0b2-0aca-11e...|\n",
      "|      18|Madison St & Ever...|bcb08532-f0d5-4c0...|\n",
      "|      23|   Hazen St & 20 Ave|ca7ec509-cefc-4ac...|\n",
      "|      20|Park Pl & Buffalo...|d18512f9-52c8-417...|\n",
      "+--------+--------------------+--------------------+\n",
      "only showing top 20 rows\n",
      "\n"
     ]
    }
   ],
   "source": [
    "\n",
    "# Sessão Spark\n",
    "spark = SparkSession.builder.appName(\"EstacoesDeBicicletas\").getOrCreate()\n",
    "\n",
    "# URL com informações sobre as estações\n",
    "url = \"https://gbfs.lyft.com/gbfs/2.3/bkn/en/station_information.json\"\n",
    "\n",
    "response = requests.get(url)\n",
    "\n",
    "# Verifica se a solicitação foi bem-sucedida\n",
    "if response.status_code == 200:\n",
    "    data = response.json()  # Os dados são convertidos em um dicionário Python\n",
    "\n",
    "    # Transforma os dados em um DataFrame Spark\n",
    "    df = spark.createDataFrame(data['data']['stations'])\n",
    "\n",
    "    # Seleciona apenas  as colunas 'capacity', 'name' e 'station_id'\n",
    "    df_estacoes = df.select('capacity', 'name', 'station_id')\n",
    "\n",
    "    # Cria tabela temporária a partir do DataFrame\n",
    "    df_estacoes.createOrReplaceTempView(\"estacoes_bikes\")\n",
    "\n",
    "    # Exiba o DataFrame com as informações das estações\n",
    "    df_estacoes.show()\n",
    "\n",
    "   \n",
    "else:\n",
    "    print(\"Falha ao obter os dados. Código de status:\", response.status_code)\n"
   ]
  },
  {
   "cell_type": "code",
   "execution_count": 33,
   "metadata": {
    "colab": {
     "base_uri": "https://localhost:8080/"
    },
    "id": "rfIekgd5Ku7U",
    "outputId": "a78db4c8-b9c2-41aa-c661-236c4762152d"
   },
   "outputs": [
    {
     "name": "stdout",
     "output_type": "stream",
     "text": [
      "+--------+--------------------+--------------------+\n",
      "|capacity|                name|          station_id|\n",
      "+--------+--------------------+--------------------+\n",
      "|      87|  E 40 St & Park Ave|c638ec67-9ac0-416...|\n",
      "|      96|     8 Ave & W 33 St|66dc686c-0aca-11e...|\n",
      "|     106|    W 59 St & 10 Ave|66dc0dab-0aca-11e...|\n",
      "|     103|  Broadway & W 48 St|64f0f28c-bedc-42d...|\n",
      "|      95|      E 6 St & Ave B|66db76a1-0aca-11e...|\n",
      "|      94|      1 Ave & E 6 St|c37931bb-8571-467...|\n",
      "|     107|  Broadway & W 25 St|daefc84c-1b16-422...|\n",
      "|     123| FDR Drive & E 35 St|66dc7659-0aca-11e...|\n",
      "|      87|     E 27 St & 1 Ave|66dc9223-0aca-11e...|\n",
      "|     120|Gansevoort St & H...| 1827839088308194240|\n",
      "|      97|     8 Ave & W 31 St|66ddbd20-0aca-11e...|\n",
      "|     117|Allen St & Hester St|66dbca9c-0aca-11e...|\n",
      "|     105|Lafayette St & E ...|66db65aa-0aca-11e...|\n",
      "|     117|    W 43 St & 10 Ave|66dc7de9-0aca-11e...|\n",
      "|     107|     E 10 St & Ave A|66dc1beb-0aca-11e...|\n",
      "|      87|     1 Ave & E 44 St|66dc2172-0aca-11e...|\n",
      "|      87|Laight St & Hudso...|66db402c-0aca-11e...|\n",
      "|      96|Grand Army Plaza ...|66db5fae-0aca-11e...|\n",
      "|     117|  Broadway & W 56 St|66dc2bc5-0aca-11e...|\n",
      "|      90|E 41 St & Madison...|95478d78-5e48-44e...|\n",
      "+--------+--------------------+--------------------+\n",
      "only showing top 20 rows\n",
      "\n"
     ]
    }
   ],
   "source": [
    "# Executar uma consulta SQL na tabela temporária \"estacoes_status_bicicletas\" para selecionar as estações com um número mínimo de bicicletas disponíveis\n",
    "resultado = spark.sql(\"SELECT * FROM estacoes_bikes WHERE capacity >= 87\")\n",
    "resultado.show()\n"
   ]
  },
  {
   "cell_type": "markdown",
   "metadata": {
    "id": "enReQMpqLwM7"
   },
   "source": [
    "02-Identificar a estação de bicicleta com a maior quantidade de bicicletas disponíveis em tempo real e exibir o resultado em uma tabela SQL."
   ]
  },
  {
   "cell_type": "code",
   "execution_count": 34,
   "metadata": {
    "colab": {
     "base_uri": "https://localhost:8080/"
    },
    "id": "pDgIEVgCpDrq",
    "outputId": "f3a31ba0-cea5-4bdb-ea87-6eda6a394a6c"
   },
   "outputs": [
    {
     "name": "stdout",
     "output_type": "stream",
     "text": [
      "+-------------------+--------------------+\n",
      "|num_bikes_available|          station_id|\n",
      "+-------------------+--------------------+\n",
      "|                  0|c638ec67-9ac0-416...|\n",
      "|                  0| 1862788202397235246|\n",
      "|                  0| 1860189327773878824|\n",
      "|                  0| 1864605386632012480|\n",
      "|                  0| 1861678548643203686|\n",
      "|                  0| 1862008701134683118|\n",
      "|                  0| 1869753484503987044|\n",
      "|                  0|66de0cab-0aca-11e...|\n",
      "|                  0| 1862008939006380034|\n",
      "|                  0| 1846086362824884662|\n",
      "|                 17|6542d952-ca19-410...|\n",
      "|                  8|5145ad1c-241f-444...|\n",
      "|                 21|66dc686c-0aca-11e...|\n",
      "|                 12|0630217a-3913-47d...|\n",
      "|                  4|068b919c-f649-409...|\n",
      "|                  2|6476c5fd-611e-436...|\n",
      "|                  5|66dcc0b2-0aca-11e...|\n",
      "|                  5|bcb08532-f0d5-4c0...|\n",
      "|                 23|ca7ec509-cefc-4ac...|\n",
      "|                  2|d18512f9-52c8-417...|\n",
      "|                  3|b96507c5-7c90-499...|\n",
      "|                 10| 1809664497883596992|\n",
      "|                  3| 1838070843306263244|\n",
      "|                  9|66de2707-0aca-11e...|\n",
      "|                 15|c2bb1874-bcb7-47c...|\n",
      "|                  5|09dfc0e3-a448-477...|\n",
      "|                  4|f9ed9a6b-097e-48b...|\n",
      "|                  5|2e66af7d-bcdd-441...|\n",
      "|                 11|7938263e-e5b8-4ca...|\n",
      "|                 20|c80c55c4-d623-42d...|\n",
      "+-------------------+--------------------+\n",
      "only showing top 30 rows\n",
      "\n"
     ]
    }
   ],
   "source": [
    "\n",
    "# Sessão Spark\n",
    "spark = SparkSession.builder.appName(\"StatusBike\").getOrCreate()\n",
    "\n",
    "# URL com informações sobre as estações\n",
    "url = \"https://gbfs.lyft.com/gbfs/2.3/bkn/en/station_status.json\"\n",
    "\n",
    "response = requests.get(url)\n",
    "\n",
    "# Verifique se a solicitação foi bem-sucedida\n",
    "if response.status_code == 200:\n",
    "    data = response.json()  # Os dados são convertidos em um dicionário Python\n",
    "\n",
    "    # Transforma os dados em um DataFrame Spark\n",
    "    df = spark.createDataFrame(data['data']['stations'])\n",
    "    # Seleciona apneas as colunas 'num_bikes_available' e 'station_id'\n",
    "    df_status = df.select('num_bikes_available', 'station_id')\n",
    "\n",
    "    # Cria uma tabela temporária\n",
    "    df_status.createOrReplaceTempView(\"status_bikes\")\n",
    "\n",
    "    # Exibe com as informações das estações\n",
    "    df_status.show(30)\n",
    "else:\n",
    "    print(\"Falha ao obter os dados. Código de status:\", response.status_code)\n"
   ]
  },
  {
   "cell_type": "code",
   "execution_count": 35,
   "metadata": {
    "colab": {
     "base_uri": "https://localhost:8080/"
    },
    "id": "ynIXDxVRKG8N",
    "outputId": "dc2cb380-64cd-4e67-fef9-463af84581c9"
   },
   "outputs": [
    {
     "name": "stdout",
     "output_type": "stream",
     "text": [
      "+-------------------+--------------------+\n",
      "|num_bikes_available|          station_id|\n",
      "+-------------------+--------------------+\n",
      "|                 17|6542d952-ca19-410...|\n",
      "|                 21|66dc686c-0aca-11e...|\n",
      "|                 12|0630217a-3913-47d...|\n",
      "|                 23|ca7ec509-cefc-4ac...|\n",
      "|                 10| 1809664497883596992|\n",
      "|                 15|c2bb1874-bcb7-47c...|\n",
      "|                 11|7938263e-e5b8-4ca...|\n",
      "|                 20|c80c55c4-d623-42d...|\n",
      "|                 16|cc5f0e68-dd5f-4db...|\n",
      "|                 16| 1854538962214948918|\n",
      "|                 12|d11b9869-8964-4b7...|\n",
      "|                 10|2c8b263e-952c-494...|\n",
      "|                 15|7a1ad7c0-4958-435...|\n",
      "|                 10|66de71af-0aca-11e...|\n",
      "|                 13| 1835246937517543544|\n",
      "|                 11|b442a648-e9f4-489...|\n",
      "|                 18|66ddeaff-0aca-11e...|\n",
      "|                 10|823ef531-40e6-439...|\n",
      "|                 10| 1846085439406916338|\n",
      "|                 21|66dc3782-0aca-11e...|\n",
      "+-------------------+--------------------+\n",
      "only showing top 20 rows\n",
      "\n"
     ]
    }
   ],
   "source": [
    "# Executa consulta SQL na tabela temporária \"estacoes_status_bicicletas\"\n",
    "resultado = spark.sql(\"SELECT * FROM status_bikes WHERE num_bikes_available >= 10\")\n",
    "resultado.show()\n"
   ]
  },
  {
   "cell_type": "code",
   "execution_count": 36,
   "metadata": {
    "colab": {
     "base_uri": "https://localhost:8080/"
    },
    "id": "d6eF3RLRb8-u",
    "outputId": "f82592b4-afb1-4730-ca91-db24b7e3e7ea"
   },
   "outputs": [
    {
     "name": "stdout",
     "output_type": "stream",
     "text": [
      "+--------------------+-------------------+\n",
      "|        nome_estacao|num_bikes_available|\n",
      "+--------------------+-------------------+\n",
      "|Allen St & Hester St|                 97|\n",
      "+--------------------+-------------------+\n",
      "\n"
     ]
    }
   ],
   "source": [
    "df_joined = spark.sql(\"\"\"\n",
    "    SELECT a.name AS nome_estacao, b.num_bikes_available\n",
    "    FROM estacoes_bikes a\n",
    "    INNER JOIN status_bikes b ON a.station_id = b.station_id\n",
    "    ORDER BY b.num_bikes_available DESC\n",
    "    LIMIT 1\n",
    "\"\"\")\n",
    "df_joined.show()"
   ]
  },
  {
   "cell_type": "markdown",
   "metadata": {
    "id": "lq1rUZ0gKgz3"
   },
   "source": []
  },
  {
   "cell_type": "code",
   "execution_count": 37,
   "metadata": {
    "id": "EteEiyybeIhq"
   },
   "outputs": [],
   "source": [
    "spark = SparkSession.builder.appName(\"dadosviagemSpark\").getOrCreate()\n",
    "arquivo = \"202309-citibike-tripdata.csv\"\n",
    "df_dados = spark.read.csv(caminho_arquivo, header=True, inferSchema=True)"
   ]
  },
  {
   "cell_type": "code",
   "execution_count": 38,
   "metadata": {
    "colab": {
     "base_uri": "https://localhost:8080/"
    },
    "id": "xLYf58wsei3A",
    "outputId": "d0050341-6e2f-47ff-e06b-d89117ebce5a"
   },
   "outputs": [
    {
     "name": "stdout",
     "output_type": "stream",
     "text": [
      "+----------------+-------------+-------------------+-------------------+--------------------+----------------+--------------------+--------------+------------------+------------------+------------------+------------------+-------------+\n",
      "|         ride_id|rideable_type|         started_at|           ended_at|  start_station_name|start_station_id|    end_station_name|end_station_id|         start_lat|         start_lng|           end_lat|           end_lng|member_casual|\n",
      "+----------------+-------------+-------------------+-------------------+--------------------+----------------+--------------------+--------------+------------------+------------------+------------------+------------------+-------------+\n",
      "|B0A0F1DEFA4B72FC|electric_bike|2023-09-03 10:20:41|2023-09-03 10:24:16|     E 1 St & Bowery|         5636.13|     E 10 St & 2 Ave|       5746.02| 40.72486122254819|-73.99213135242462| 40.72970805644994| -73.9865979552269|       member|\n",
      "|2B26AB15647BF4EE| classic_bike|2023-09-27 15:44:23|2023-09-27 15:53:25|Pearl St & Hanove...|         4993.02|Allen St & Riving...|       5414.06|      40.704650044|     -74.009132624|       40.72019576|      -73.98997825|       member|\n",
      "|9D2B5971CA4E513F| classic_bike|2023-09-19 13:40:48|2023-09-19 13:48:11|     E 1 St & Bowery|         5636.13|     E 10 St & 2 Ave|       5746.02|40.724753261000004|     -73.992115974| 40.72970805644994| -73.9865979552269|       member|\n",
      "|17E6760596DC3ABE| classic_bike|2023-09-30 16:27:50|2023-09-30 16:56:35|Central Ave & Him...|         4713.01| Mott St & Prince St|       5561.04|      40.696706414|     -73.922934651|       40.72317958|      -73.99480012|       member|\n",
      "|97EFF376A7E2DC70| classic_bike|2023-09-21 16:59:53|2023-09-21 17:07:36| St Marks Pl & 2 Ave|         5669.10| Mott St & Prince St|       5561.04|        40.7284186|      -73.98713956|       40.72317958|      -73.99480012|       member|\n",
      "|D14BD5627029FFEA| classic_bike|2023-09-11 14:50:19|2023-09-11 14:54:47|Meserole Ave & Ma...|         5666.04|Franklin St & Dup...|       5944.01|      40.726941943|     -73.953004837|          40.73564|         -73.95866|       member|\n",
      "|D4AF7211BE4B6C54| classic_bike|2023-09-06 17:19:49|2023-09-06 17:23:40|Pearl St & Hanove...|         4993.02|Fulton St & Willi...|       5137.11|        40.7047177|      -74.00926027| 40.70960089363537|-74.00655090808868|       member|\n",
      "|775E8EF8E42CF867| classic_bike|2023-09-26 17:48:10|2023-09-26 18:04:14|Adams St & Prospe...|         4821.10|Washington Ave & ...|       4419.03|      40.701164842|     -73.988743901|       40.68650065|      -73.96563307|       member|\n",
      "|2CC42BB00C45A968| classic_bike|2023-09-15 13:14:38|2023-09-15 14:18:07|West Broadway & W...|         5569.07|Allen St & Riving...|       5414.06|          40.72323|         -74.00314|       40.72019576|      -73.98997825|       casual|\n",
      "|7FEB0C3990129D56| classic_bike|2023-09-06 03:29:02|2023-09-06 03:41:42|    E 117 St & 1 Ave|         7579.11|Tinton Ave & E 16...|       7991.01|      40.796563148|     -73.934445858|         40.824796|         -73.90242|       member|\n",
      "|B54C7B22E82BFD7A|electric_bike|2023-09-13 08:27:35|2023-09-13 08:30:54|Pearl St & Hanove...|         4993.02|Fulton St & Willi...|       5137.11|        40.7047177|      -74.00926027| 40.70960089363537|-74.00655090808868|       casual|\n",
      "|1BA80F46022B4613| classic_bike|2023-09-13 07:03:45|2023-09-13 07:08:40| St Marks Pl & 2 Ave|         5669.10| Mott St & Prince St|       5561.04|       40.72852397|     -73.987239361|       40.72317958|      -73.99480012|       casual|\n",
      "|07FF3D443D7DFA14| classic_bike|2023-09-30 23:08:30|2023-10-01 01:12:04|Broad St & Bridge St|         4962.08| Mott St & Prince St|       5561.04|       40.70365182|      -74.01167797|       40.72317958|      -73.99480012|       casual|\n",
      "|E32800B9B7C5E57F| classic_bike|2023-09-01 18:42:41|2023-09-01 18:59:38|Meserole Ave & Ma...|         5666.04|Allen St & Riving...|       5414.06|      40.727082372|     -73.953095317|       40.72019576|      -73.98997825|       casual|\n",
      "|A918CFF9F19BF77B| classic_bike|2023-09-30 14:42:10|2023-09-30 14:48:17|     E 1 St & Bowery|         5636.13|     E 10 St & 2 Ave|       5746.02| 40.72486122254819|-73.99213135242462| 40.72970805644994| -73.9865979552269|       casual|\n",
      "|0118161E3712C001| classic_bike|2023-09-27 10:55:45|2023-09-27 11:14:47|Maiden Ln & Pearl St|         5065.10|Allen St & Riving...|       5414.06|       40.70706456|      -74.00731853|       40.72019576|      -73.98997825|       casual|\n",
      "|04D1BCDAD563134D| classic_bike|2023-09-28 13:43:03|2023-09-28 14:04:32|Broad St & Bridge St|         4962.08|    5 St & Market St|       4843.01|      40.703657389|     -74.011291027|40.699997484388504|-73.97440128028393|       casual|\n",
      "|A8A59F0CFE2B3412| classic_bike|2023-09-12 01:18:36|2023-09-12 01:34:07|     E 1 St & Bowery|         5636.13|Allen St & Riving...|       5414.06| 40.72486122254819|-73.99213135242462|       40.72019576|      -73.98997825|       casual|\n",
      "|D70D0A2E3A3F5905| classic_bike|2023-09-21 08:52:45|2023-09-21 09:10:34|     W 29 St & 9 Ave|         6416.06|     E 10 St & 2 Ave|       5746.02|        40.7500727|      -73.99839279| 40.72970805644994| -73.9865979552269|       member|\n",
      "|EEB5E59F8FFF7AA9| classic_bike|2023-09-05 08:33:32|2023-09-05 08:42:51|     W 47 St & 9 Ave|         6786.02|     E 47 St & 2 Ave|       6498.10| 40.76153045158114|-73.99007007479668|       40.75323098|      -73.97032517|       member|\n",
      "+----------------+-------------+-------------------+-------------------+--------------------+----------------+--------------------+--------------+------------------+------------------+------------------+------------------+-------------+\n",
      "only showing top 20 rows\n",
      "\n"
     ]
    }
   ],
   "source": [
    "df_dados.show()"
   ]
  },
  {
   "cell_type": "code",
   "execution_count": 39,
   "metadata": {
    "colab": {
     "base_uri": "https://localhost:8080/"
    },
    "id": "CHSoYTLUgfEN",
    "outputId": "ffaf9dda-1c3f-4c53-899b-a6bc9b99e283"
   },
   "outputs": [
    {
     "name": "stdout",
     "output_type": "stream",
     "text": [
      "+--------------------+-------------------+--------------------+-------------------+\n",
      "|  start_station_name|         started_at|    end_station_name|           ended_at|\n",
      "+--------------------+-------------------+--------------------+-------------------+\n",
      "|     E 1 St & Bowery|2023-09-03 10:20:41|     E 10 St & 2 Ave|2023-09-03 10:24:16|\n",
      "|Pearl St & Hanove...|2023-09-27 15:44:23|Allen St & Riving...|2023-09-27 15:53:25|\n",
      "|     E 1 St & Bowery|2023-09-19 13:40:48|     E 10 St & 2 Ave|2023-09-19 13:48:11|\n",
      "|Central Ave & Him...|2023-09-30 16:27:50| Mott St & Prince St|2023-09-30 16:56:35|\n",
      "| St Marks Pl & 2 Ave|2023-09-21 16:59:53| Mott St & Prince St|2023-09-21 17:07:36|\n",
      "|Meserole Ave & Ma...|2023-09-11 14:50:19|Franklin St & Dup...|2023-09-11 14:54:47|\n",
      "|Pearl St & Hanove...|2023-09-06 17:19:49|Fulton St & Willi...|2023-09-06 17:23:40|\n",
      "|Adams St & Prospe...|2023-09-26 17:48:10|Washington Ave & ...|2023-09-26 18:04:14|\n",
      "|West Broadway & W...|2023-09-15 13:14:38|Allen St & Riving...|2023-09-15 14:18:07|\n",
      "|    E 117 St & 1 Ave|2023-09-06 03:29:02|Tinton Ave & E 16...|2023-09-06 03:41:42|\n",
      "|Pearl St & Hanove...|2023-09-13 08:27:35|Fulton St & Willi...|2023-09-13 08:30:54|\n",
      "| St Marks Pl & 2 Ave|2023-09-13 07:03:45| Mott St & Prince St|2023-09-13 07:08:40|\n",
      "|Broad St & Bridge St|2023-09-30 23:08:30| Mott St & Prince St|2023-10-01 01:12:04|\n",
      "|Meserole Ave & Ma...|2023-09-01 18:42:41|Allen St & Riving...|2023-09-01 18:59:38|\n",
      "|     E 1 St & Bowery|2023-09-30 14:42:10|     E 10 St & 2 Ave|2023-09-30 14:48:17|\n",
      "|Maiden Ln & Pearl St|2023-09-27 10:55:45|Allen St & Riving...|2023-09-27 11:14:47|\n",
      "|Broad St & Bridge St|2023-09-28 13:43:03|    5 St & Market St|2023-09-28 14:04:32|\n",
      "|     E 1 St & Bowery|2023-09-12 01:18:36|Allen St & Riving...|2023-09-12 01:34:07|\n",
      "|     W 29 St & 9 Ave|2023-09-21 08:52:45|     E 10 St & 2 Ave|2023-09-21 09:10:34|\n",
      "|     W 47 St & 9 Ave|2023-09-05 08:33:32|     E 47 St & 2 Ave|2023-09-05 08:42:51|\n",
      "+--------------------+-------------------+--------------------+-------------------+\n",
      "only showing top 20 rows\n",
      "\n"
     ]
    }
   ],
   "source": [
    " # Seleciona as colunas 'num_bikes_available' e 'station_id'\n",
    "df_dados = df_dados.select('start_station_name','started_at','end_station_name','ended_at')\n",
    "df_dados.show()"
   ]
  },
  {
   "cell_type": "code",
   "execution_count": 40,
   "metadata": {
    "colab": {
     "base_uri": "https://localhost:8080/"
    },
    "id": "NSyQbnODg_Bh",
    "outputId": "f6104b91-faef-4738-8beb-0b680572fbf0"
   },
   "outputs": [
    {
     "name": "stdout",
     "output_type": "stream",
     "text": [
      "+--------------------+-------------------+--------------------+-------------------+\n",
      "| nome_estacao_inicio|          inicio_em|nome_estacao_termino|         termino_em|\n",
      "+--------------------+-------------------+--------------------+-------------------+\n",
      "|     E 1 St & Bowery|2023-09-03 10:20:41|     E 10 St & 2 Ave|2023-09-03 10:24:16|\n",
      "|Pearl St & Hanove...|2023-09-27 15:44:23|Allen St & Riving...|2023-09-27 15:53:25|\n",
      "|     E 1 St & Bowery|2023-09-19 13:40:48|     E 10 St & 2 Ave|2023-09-19 13:48:11|\n",
      "|Central Ave & Him...|2023-09-30 16:27:50| Mott St & Prince St|2023-09-30 16:56:35|\n",
      "| St Marks Pl & 2 Ave|2023-09-21 16:59:53| Mott St & Prince St|2023-09-21 17:07:36|\n",
      "|Meserole Ave & Ma...|2023-09-11 14:50:19|Franklin St & Dup...|2023-09-11 14:54:47|\n",
      "|Pearl St & Hanove...|2023-09-06 17:19:49|Fulton St & Willi...|2023-09-06 17:23:40|\n",
      "|Adams St & Prospe...|2023-09-26 17:48:10|Washington Ave & ...|2023-09-26 18:04:14|\n",
      "|West Broadway & W...|2023-09-15 13:14:38|Allen St & Riving...|2023-09-15 14:18:07|\n",
      "|    E 117 St & 1 Ave|2023-09-06 03:29:02|Tinton Ave & E 16...|2023-09-06 03:41:42|\n",
      "|Pearl St & Hanove...|2023-09-13 08:27:35|Fulton St & Willi...|2023-09-13 08:30:54|\n",
      "| St Marks Pl & 2 Ave|2023-09-13 07:03:45| Mott St & Prince St|2023-09-13 07:08:40|\n",
      "|Broad St & Bridge St|2023-09-30 23:08:30| Mott St & Prince St|2023-10-01 01:12:04|\n",
      "|Meserole Ave & Ma...|2023-09-01 18:42:41|Allen St & Riving...|2023-09-01 18:59:38|\n",
      "|     E 1 St & Bowery|2023-09-30 14:42:10|     E 10 St & 2 Ave|2023-09-30 14:48:17|\n",
      "|Maiden Ln & Pearl St|2023-09-27 10:55:45|Allen St & Riving...|2023-09-27 11:14:47|\n",
      "|Broad St & Bridge St|2023-09-28 13:43:03|    5 St & Market St|2023-09-28 14:04:32|\n",
      "|     E 1 St & Bowery|2023-09-12 01:18:36|Allen St & Riving...|2023-09-12 01:34:07|\n",
      "|     W 29 St & 9 Ave|2023-09-21 08:52:45|     E 10 St & 2 Ave|2023-09-21 09:10:34|\n",
      "|     W 47 St & 9 Ave|2023-09-05 08:33:32|     E 47 St & 2 Ave|2023-09-05 08:42:51|\n",
      "+--------------------+-------------------+--------------------+-------------------+\n",
      "only showing top 20 rows\n",
      "\n"
     ]
    }
   ],
   "source": [
    "#Renomeado as colunas\n",
    "df_dados= df_dados.withColumnRenamed(\"start_station_name\", \"nome_estacao_inicio\")\\\n",
    "               .withColumnRenamed(\"started_at\", \"inicio_em\")\\\n",
    "               .withColumnRenamed(\"end_station_name\", \"nome_estacao_termino\")\\\n",
    "               .withColumnRenamed(\"ended_at\", \"termino_em\")\n",
    "# Cria uma tabela temporária\n",
    "df_dados.createOrReplaceTempView(\"dados_viagem\")\n",
    "df_dados.show()"
   ]
  },
  {
   "cell_type": "markdown",
   "metadata": {},
   "source": [
    "03- Calcular a média de duração de uma viagem em cada estação de bicicleta e exibir os resultados em uma tabela SQL.\r\n"
   ]
  },
  {
   "cell_type": "code",
   "execution_count": 41,
   "metadata": {
    "colab": {
     "base_uri": "https://localhost:8080/"
    },
    "id": "spIHhEerHQTg",
    "outputId": "a35942cb-9b3d-4781-89c9-c52ff8d03a82"
   },
   "outputs": [
    {
     "name": "stdout",
     "output_type": "stream",
     "text": [
      "+--------------------+------------------+\n",
      "| nome_estacao_inicio|avg_duracao_viagem|\n",
      "+--------------------+------------------+\n",
      "|Nassau St & Duffi...|          00:14:07|\n",
      "|Buchanan Pl & Gra...|          00:13:56|\n",
      "|     E 63 St & 3 Ave|          00:18:25|\n",
      "|       19 St & 8 Ave|          00:12:31|\n",
      "|       45 Rd & 11 St|          00:14:33|\n",
      "| Sterling Pl & 5 Ave|          00:14:24|\n",
      "|  N 11 St & Kent Ave|          00:13:38|\n",
      "|E Tremont Ave & E...|          00:20:06|\n",
      "|College Ave & E 1...|          00:15:12|\n",
      "|E 141 St & Jackso...|          00:13:43|\n",
      "|       5 Ave & 66 St|          00:19:09|\n",
      "|     31 Ave & 103 St|          00:17:12|\n",
      "|       10 St & 5 Ave|          00:13:58|\n",
      "|   Dean St & Hoyt St|          00:13:57|\n",
      "|     W 20 St & 5 Ave|          00:14:25|\n",
      "| Park Ave & E 124 St|          00:14:25|\n",
      "|Popham Ave & W 17...|          00:16:41|\n",
      "| 20 Ave & Shore Blvd|          00:17:01|\n",
      "|Van Buren St & Br...|          00:14:35|\n",
      "| Berkeley Pl & 6 Ave|          00:14:29|\n",
      "|Grand Concourse &...|          00:14:44|\n",
      "|Hancock St & Stuy...|          00:13:23|\n",
      "|       53 St & 5 Ave|          00:15:34|\n",
      "|      49 Ave & 21 St|          00:13:15|\n",
      "|       61 St & 60 Ln|          00:24:03|\n",
      "|     E 91 St & 2 Ave|          00:17:04|\n",
      "|Greenpoint Ave & ...|          00:15:10|\n",
      "|Anthony Ave & E T...|          00:16:31|\n",
      "|Edgecombe Ave & W...|          00:13:17|\n",
      "| Broadway & W 165 St|          00:14:47|\n",
      "+--------------------+------------------+\n",
      "only showing top 30 rows\n",
      "\n"
     ]
    }
   ],
   "source": [
    "\n",
    "df_dadosAvg = df_dados.groupBy(\"nome_estacao_inicio\").agg(\n",
    "    from_unixtime(avg(unix_timestamp(\"termino_em\") - unix_timestamp(\"inicio_em\")), \"HH:mm:ss\").alias(\"avg_duracao_viagem\")\n",
    ")\n",
    "# Cria uma tabela temporária\n",
    "df_dadosAvg.createOrReplaceTempView(\"avg_viagem\")\n",
    "# Consulta da tabela temporária avg_viagem\n",
    "consulta_sql = \"SELECT * FROM avg_viagem\"\n",
    "resultado = spark.sql(consulta_sql)\n",
    "resultado.show(30)\n",
    "\n",
    "#df_dados2.show()"
   ]
  },
  {
   "cell_type": "markdown",
   "metadata": {
    "id": "Exrv8_IgFVyB"
   },
   "source": [
    " 04-Calcular a média de duração de uma viagem em cada hora do dia e exibir os resultados em uma tabela SQL."
   ]
  },
  {
   "cell_type": "code",
   "execution_count": 42,
   "metadata": {
    "colab": {
     "base_uri": "https://localhost:8080/"
    },
    "id": "GNn5CBRmdOH7",
    "outputId": "84bc8c9e-236b-484a-c9fb-3346017af3d0"
   },
   "outputs": [
    {
     "name": "stdout",
     "output_type": "stream",
     "text": [
      "+----+-------------+\n",
      "|hora|media_duracao|\n",
      "+----+-------------+\n",
      "|  00|     00:17:06|\n",
      "|  01|     00:17:35|\n",
      "|  02|     00:17:56|\n",
      "|  03|     00:19:35|\n",
      "|  04|     00:17:30|\n",
      "|  05|     00:13:35|\n",
      "|  06|     00:13:41|\n",
      "|  07|     00:14:24|\n",
      "|  08|     00:14:36|\n",
      "|  09|     00:14:38|\n",
      "|  10|     00:16:00|\n",
      "|  11|     00:16:41|\n",
      "|  12|     00:16:51|\n",
      "|  13|     00:16:55|\n",
      "|  14|     00:16:49|\n",
      "|  15|     00:16:35|\n",
      "|  16|     00:16:25|\n",
      "|  17|     00:15:56|\n",
      "|  18|     00:15:40|\n",
      "|  19|     00:15:22|\n",
      "|  20|     00:15:14|\n",
      "|  21|     00:15:19|\n",
      "|  22|     00:16:17|\n",
      "|  23|     00:16:28|\n",
      "+----+-------------+\n",
      "\n"
     ]
    }
   ],
   "source": [
    "# Consulta para calcular a média de duração de viagem em cada hora do dia\n",
    "query_avg_duration = \"\"\"\n",
    "SELECT\n",
    "    DATE_FORMAT(CAST(inicio_em AS TIMESTAMP), 'HH') AS hora,\n",
    "    FROM_UNIXTIME(AVG(UNIX_TIMESTAMP(termino_em) - UNIX_TIMESTAMP(inicio_em)), 'HH:mm:ss') AS media_duracao\n",
    "FROM dados_viagem\n",
    "GROUP BY hora\n",
    "ORDER BY hora\n",
    "\"\"\"\n",
    "\n",
    "# Executa a consulta\n",
    "resultado_media_duracao_hora = spark.sql(query_avg_duration)\n",
    "resultado_media_duracao_hora.show(24)\n"
   ]
  },
  {
   "cell_type": "markdown",
   "metadata": {
    "id": "ZVgL7BfzGMg1"
   },
   "source": [
    "05-Obter o histórico de viagens de uma estação de bicicleta específica e exibir os resultados em uma tabela SQL."
   ]
  },
  {
   "cell_type": "code",
   "execution_count": 43,
   "metadata": {
    "colab": {
     "base_uri": "https://localhost:8080/"
    },
    "id": "RQ2IX6jrjsRU",
    "outputId": "81f8c982-0c4b-4d98-f291-67d346c8e162"
   },
   "outputs": [
    {
     "name": "stdout",
     "output_type": "stream",
     "text": [
      "+-------------------+-------------------+--------------------+-------------------+\n",
      "|nome_estacao_inicio|          inicio_em|nome_estacao_termino|         termino_em|\n",
      "+-------------------+-------------------+--------------------+-------------------+\n",
      "|    E 1 St & Bowery|2023-09-03 10:20:41|     E 10 St & 2 Ave|2023-09-03 10:24:16|\n",
      "|    E 1 St & Bowery|2023-09-19 13:40:48|     E 10 St & 2 Ave|2023-09-19 13:48:11|\n",
      "|    E 1 St & Bowery|2023-09-30 14:42:10|     E 10 St & 2 Ave|2023-09-30 14:48:17|\n",
      "|    E 1 St & Bowery|2023-09-12 01:18:36|Allen St & Riving...|2023-09-12 01:34:07|\n",
      "|    E 1 St & Bowery|2023-09-13 22:11:19|Kingston Ave & Pa...|2023-09-13 22:39:51|\n",
      "|    E 1 St & Bowery|2023-09-15 18:29:10|Greenwich Ave & C...|2023-09-15 18:47:04|\n",
      "|    E 1 St & Bowery|2023-09-16 20:05:32|Christopher St & ...|2023-09-16 20:14:40|\n",
      "|    E 1 St & Bowery|2023-09-02 16:17:55|     6 Ave & W 45 St|2023-09-02 17:40:30|\n",
      "|    E 1 St & Bowery|2023-09-18 11:47:11|  Broadway & W 29 St|2023-09-18 12:02:46|\n",
      "|    E 1 St & Bowery|2023-09-09 14:58:04|     6 Ave & W 34 St|2023-09-09 15:08:49|\n",
      "|    E 1 St & Bowery|2023-09-06 15:09:10|Kenmare St & Eliz...|2023-09-06 15:23:43|\n",
      "|    E 1 St & Bowery|2023-09-25 08:01:58|     E 45 St & 3 Ave|2023-09-25 08:19:11|\n",
      "|    E 1 St & Bowery|2023-09-09 01:11:52|                NULL|2023-09-10 02:11:47|\n",
      "|    E 1 St & Bowery|2023-09-09 11:36:40|Lexington Ave & E...|2023-09-09 11:47:12|\n",
      "|    E 1 St & Bowery|2023-09-12 11:36:57|      E 2 St & 2 Ave|2023-09-12 11:38:02|\n",
      "|    E 1 St & Bowery|2023-09-12 11:33:53|      E 2 St & 2 Ave|2023-09-12 11:35:09|\n",
      "|    E 1 St & Bowery|2023-09-12 11:39:49|      E 2 St & 2 Ave|2023-09-12 11:40:49|\n",
      "|    E 1 St & Bowery|2023-09-12 11:30:59|      E 2 St & 2 Ave|2023-09-12 11:32:07|\n",
      "|    E 1 St & Bowery|2023-09-11 11:48:23|     E 1 St & Bowery|2023-09-11 12:47:43|\n",
      "|    E 1 St & Bowery|2023-09-11 11:47:37|     E 1 St & Bowery|2023-09-11 11:47:50|\n",
      "+-------------------+-------------------+--------------------+-------------------+\n",
      "only showing top 20 rows\n",
      "\n"
     ]
    }
   ],
   "source": [
    "# Filtra o Df para obter o histórico de viagens da estação \n",
    "historico_estacaoX = df_dados.filter((col(\"nome_estacao_inicio\") == \"E 1 St & Bowery\") | (col(\"nome_estacao_termino\") == \"E 1 St & Bowery\"))\n",
    "\n",
    "# Exibe histórico de viagens \n",
    "historico_estacaoX.show()"
   ]
  },
  {
   "cell_type": "markdown",
   "metadata": {},
   "source": [
    "Consulta SQL para obter o histórico de viagens da estação \"E 1 St & Bowery\""
   ]
  },
  {
   "cell_type": "code",
   "execution_count": 44,
   "metadata": {
    "colab": {
     "base_uri": "https://localhost:8080/"
    },
    "id": "QSmHrvlFiioG",
    "outputId": "f3903b8b-1586-4ff1-a6ed-fa2099d1b502"
   },
   "outputs": [
    {
     "name": "stdout",
     "output_type": "stream",
     "text": [
      "+-------------------+-------------------+--------------------+-------------------+\n",
      "|nome_estacao_inicio|          inicio_em|nome_estacao_termino|         termino_em|\n",
      "+-------------------+-------------------+--------------------+-------------------+\n",
      "|    E 1 St & Bowery|2023-09-03 10:20:41|     E 10 St & 2 Ave|2023-09-03 10:24:16|\n",
      "|    E 1 St & Bowery|2023-09-19 13:40:48|     E 10 St & 2 Ave|2023-09-19 13:48:11|\n",
      "|    E 1 St & Bowery|2023-09-30 14:42:10|     E 10 St & 2 Ave|2023-09-30 14:48:17|\n",
      "|    E 1 St & Bowery|2023-09-12 01:18:36|Allen St & Riving...|2023-09-12 01:34:07|\n",
      "|    E 1 St & Bowery|2023-09-13 22:11:19|Kingston Ave & Pa...|2023-09-13 22:39:51|\n",
      "|    E 1 St & Bowery|2023-09-15 18:29:10|Greenwich Ave & C...|2023-09-15 18:47:04|\n",
      "|    E 1 St & Bowery|2023-09-16 20:05:32|Christopher St & ...|2023-09-16 20:14:40|\n",
      "|    E 1 St & Bowery|2023-09-02 16:17:55|     6 Ave & W 45 St|2023-09-02 17:40:30|\n",
      "|    E 1 St & Bowery|2023-09-18 11:47:11|  Broadway & W 29 St|2023-09-18 12:02:46|\n",
      "|    E 1 St & Bowery|2023-09-09 14:58:04|     6 Ave & W 34 St|2023-09-09 15:08:49|\n",
      "|    E 1 St & Bowery|2023-09-06 15:09:10|Kenmare St & Eliz...|2023-09-06 15:23:43|\n",
      "|    E 1 St & Bowery|2023-09-25 08:01:58|     E 45 St & 3 Ave|2023-09-25 08:19:11|\n",
      "|    E 1 St & Bowery|2023-09-09 01:11:52|                NULL|2023-09-10 02:11:47|\n",
      "|    E 1 St & Bowery|2023-09-09 11:36:40|Lexington Ave & E...|2023-09-09 11:47:12|\n",
      "|    E 1 St & Bowery|2023-09-12 11:36:57|      E 2 St & 2 Ave|2023-09-12 11:38:02|\n",
      "|    E 1 St & Bowery|2023-09-12 11:33:53|      E 2 St & 2 Ave|2023-09-12 11:35:09|\n",
      "|    E 1 St & Bowery|2023-09-12 11:39:49|      E 2 St & 2 Ave|2023-09-12 11:40:49|\n",
      "|    E 1 St & Bowery|2023-09-12 11:30:59|      E 2 St & 2 Ave|2023-09-12 11:32:07|\n",
      "|    E 1 St & Bowery|2023-09-11 11:48:23|     E 1 St & Bowery|2023-09-11 12:47:43|\n",
      "|    E 1 St & Bowery|2023-09-11 11:47:37|     E 1 St & Bowery|2023-09-11 11:47:50|\n",
      "+-------------------+-------------------+--------------------+-------------------+\n",
      "only showing top 20 rows\n",
      "\n"
     ]
    }
   ],
   "source": [
    "\n",
    "historico_estacaoX = spark.sql(\"\"\"\n",
    "    SELECT\n",
    "        *\n",
    "    FROM\n",
    "        dados_viagem\n",
    "    WHERE\n",
    "        nome_estacao_inicio = 'E 1 St & Bowery' OR nome_estacao_termino = 'E 1 St & Bowery'\n",
    "\"\"\")\n",
    "\n",
    "# Exibe o histórico de viagens \n",
    "historico_estacaoX.show()\n"
   ]
  },
  {
   "cell_type": "markdown",
   "metadata": {
    "id": "aqZVhZ9aGUUi"
   },
   "source": [
    "06-Identificar a estação de bicicleta mais popular com base no número total de viagens iniciadas e exibir o resultado em uma tabela SQL"
   ]
  },
  {
   "cell_type": "code",
   "execution_count": 45,
   "metadata": {
    "colab": {
     "base_uri": "https://localhost:8080/"
    },
    "id": "1sBL8Sschbzo",
    "outputId": "451d3f01-76e6-45bd-e38b-3f08aa2a49c0"
   },
   "outputs": [
    {
     "name": "stdout",
     "output_type": "stream",
     "text": [
      "+-------------------+-----------------------+\n",
      "|nome_estacao_inicio|total_viagens_iniciadas|\n",
      "+-------------------+-----------------------+\n",
      "|    W 21 St & 6 Ave|                  13596|\n",
      "+-------------------+-----------------------+\n",
      "\n"
     ]
    }
   ],
   "source": [
    "# Calcula o número total de viagens iniciadas em cada estação\n",
    "estacoes_mais_populares = df_dados.groupBy(\"nome_estacao_inicio\") \\\n",
    "    .count() \\\n",
    "    .withColumnRenamed(\"count\", \"total_viagens_iniciadas\")\n",
    "\n",
    "# Encontra a estação mais popular com base no número total de viagens iniciadas\n",
    "estacao_mais_popular = estacoes_mais_populares.orderBy(col(\"total_viagens_iniciadas\").desc()) \\\n",
    "    .limit(1)\n",
    "\n",
    "# Exiba a estação mais popular\n",
    "estacao_mais_popular.show()"
   ]
  },
  {
   "cell_type": "markdown",
   "metadata": {},
   "source": [
    "Consulta SQL a estação mais popular com base no número total de viagens iniciadas"
   ]
  },
  {
   "cell_type": "code",
   "execution_count": 46,
   "metadata": {
    "colab": {
     "base_uri": "https://localhost:8080/"
    },
    "id": "6tqXnU0siIHo",
    "outputId": "eeb7b65e-2141-4592-c1c8-995e77faf945"
   },
   "outputs": [
    {
     "name": "stdout",
     "output_type": "stream",
     "text": [
      "+---------------+-----------------------+\n",
      "|        estacao|total_viagens_iniciadas|\n",
      "+---------------+-----------------------+\n",
      "|W 21 St & 6 Ave|                  13596|\n",
      "+---------------+-----------------------+\n",
      "\n"
     ]
    }
   ],
   "source": [
    "estacao_mais_popular = spark.sql(\"\"\"\n",
    "    SELECT\n",
    "        estacao,\n",
    "        total_viagens_iniciadas\n",
    "    FROM\n",
    "        (\n",
    "            SELECT\n",
    "                nome_estacao_inicio AS estacao,\n",
    "                COUNT(*) AS total_viagens_iniciadas\n",
    "            FROM\n",
    "                dados_viagem\n",
    "            GROUP BY\n",
    "                nome_estacao_inicio\n",
    "        )\n",
    "    ORDER BY\n",
    "        total_viagens_iniciadas DESC\n",
    "    LIMIT 1\n",
    "\"\"\")\n",
    "\n",
    "# Exibe a estação mais popular\n",
    "estacao_mais_popular.show()"
   ]
  },
  {
   "cell_type": "markdown",
   "metadata": {
    "id": "-uoscOOkGZxR"
   },
   "source": [
    "07-Determinar os dias da semana com a maior e a menor quantidade de viagens e exibir os resultados em uma tabela SQL."
   ]
  },
  {
   "cell_type": "code",
   "execution_count": 47,
   "metadata": {
    "colab": {
     "base_uri": "https://localhost:8080/"
    },
    "id": "6QfL2P4F02mW",
    "outputId": "598e376c-b8d2-493a-a48a-a70d6423453a"
   },
   "outputs": [
    {
     "name": "stdout",
     "output_type": "stream",
     "text": [
      "+--------------------+------+\n",
      "|dia_semana_maior_qtd| count|\n",
      "+--------------------+------+\n",
      "|              Friday|609672|\n",
      "+--------------------+------+\n",
      "\n",
      "+--------------------+------+\n",
      "|dia_semana_menor_qtd| count|\n",
      "+--------------------+------+\n",
      "|              Monday|336507|\n",
      "+--------------------+------+\n",
      "\n"
     ]
    }
   ],
   "source": [
    "#Encontra o dia da semana mais popular\n",
    "consulta_dia_mais_popular = df_dados.groupBy(date_format(\"inicio_em\", \"EEEE\").alias(\"dia_semana_maior_qtd\")) \\\n",
    "    .count() \\\n",
    "    .orderBy(col(\"count\").desc()) \\\n",
    "    .limit(1)\n",
    "\n",
    "#Encontrar o dia da semana menos popular\n",
    "consulta_dia_menos_popular = df_dados.groupBy(date_format(\"inicio_em\", \"EEEE\").alias(\"dia_semana_menor_qtd\")) \\\n",
    "    .count() \\\n",
    "    .orderBy(col(\"count\")) \\\n",
    "    .limit(1)\n",
    "\n",
    "# Exibe Resultado\n",
    "resultado_dia_mais_popular = consulta_dia_mais_popular.show()\n",
    "\n",
    "# Exibe Resultado\n",
    "resultado_dia_menos_popular = consulta_dia_menos_popular.show()\n"
   ]
  },
  {
   "cell_type": "markdown",
   "metadata": {},
   "source": [
    "Consulta SQL para encontrar o dia da semana mais popular"
   ]
  },
  {
   "cell_type": "code",
   "execution_count": 48,
   "metadata": {
    "colab": {
     "base_uri": "https://localhost:8080/"
    },
    "id": "KO6U1CVNxZYy",
    "outputId": "9c4213b4-d0f6-4ddd-e3df-83b65cf91d17"
   },
   "outputs": [
    {
     "name": "stdout",
     "output_type": "stream",
     "text": [
      "+--------------------+------------------+\n",
      "|dia_semana_maior_qtd|quantidade_viagens|\n",
      "+--------------------+------------------+\n",
      "|              Friday|            609672|\n",
      "+--------------------+------------------+\n",
      "\n",
      "+--------------------+-------------------------+\n",
      "|dia_semana_menor_qtd|viagens_dia_menos_popular|\n",
      "+--------------------+-------------------------+\n",
      "|              Monday|                   336507|\n",
      "+--------------------+-------------------------+\n",
      "\n"
     ]
    }
   ],
   "source": [
    "\n",
    "consulta01 = spark.sql(\"\"\"\n",
    "SELECT\n",
    "    DATE_FORMAT(inicio_em, 'EEEE') AS dia_semana_maior_qtd,\n",
    "    COUNT(*) AS quantidade_viagens\n",
    "FROM dados_viagem\n",
    "GROUP BY DATE_FORMAT(inicio_em, 'EEEE')\n",
    "ORDER BY quantidade_viagens DESC\n",
    "LIMIT 1\n",
    "\"\"\")\n",
    "\n",
    "# Consulta SQL para encontrar o dia da semana menos popular\n",
    "consulta02 = spark.sql(\"\"\"\n",
    "SELECT\n",
    "    DATE_FORMAT(inicio_em, 'EEEE') AS dia_semana_menor_qtd,\n",
    "    COUNT(*) AS viagens_dia_menos_popular\n",
    "FROM dados_viagem\n",
    "GROUP BY DATE_FORMAT(inicio_em, 'EEEE')\n",
    "ORDER BY viagens_dia_menos_popular\n",
    "LIMIT 1\n",
    "\"\"\")\n",
    "# Executar a consulta para encontrar o dia da semana mais popular\n",
    "resultado_dia_mais_popular = consulta01.show()\n",
    "\n",
    "# Executar a consulta para encontrar o dia da semana menos popular\n",
    "resultado_dia_menos_popular = consulta02.show()"
   ]
  },
  {
   "cell_type": "code",
   "execution_count": 49,
   "metadata": {
    "id": "5a7PWCzIAdsA"
   },
   "outputs": [],
   "source": [
    "# Encerra a sessão Spark\n",
    "spark.stop()"
   ]
  }
 ],
 "metadata": {
  "colab": {
   "provenance": []
  },
  "kernelspec": {
   "display_name": "Python 3 (ipykernel)",
   "language": "python",
   "name": "python3"
  },
  "language_info": {
   "codemirror_mode": {
    "name": "ipython",
    "version": 3
   },
   "file_extension": ".py",
   "mimetype": "text/x-python",
   "name": "python",
   "nbconvert_exporter": "python",
   "pygments_lexer": "ipython3",
   "version": "3.11.6"
  }
 },
 "nbformat": 4,
 "nbformat_minor": 4
}
